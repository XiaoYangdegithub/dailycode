{
 "cells": [
  {
   "cell_type": "code",
   "execution_count": 27,
   "id": "595bb02e",
   "metadata": {},
   "outputs": [
    {
     "name": "stdout",
     "output_type": "stream",
     "text": [
      "Requirement already satisfied: faiss-cpu in /Library/Frameworks/Python.framework/Versions/3.10/lib/python3.10/site-packages (1.7.3)\n",
      "Note: you may need to restart the kernel to use updated packages.\n"
     ]
    }
   ],
   "source": [
    "pip install faiss-cpu"
   ]
  },
  {
   "cell_type": "code",
   "execution_count": 26,
   "id": "bce37c0b",
   "metadata": {},
   "outputs": [
    {
     "name": "stdout",
     "output_type": "stream",
     "text": [
      "Requirement already satisfied: paddlepaddle in /Library/Frameworks/Python.framework/Versions/3.10/lib/python3.10/site-packages (2.4.0)\n",
      "Requirement already satisfied: numpy>=1.13 in /Library/Frameworks/Python.framework/Versions/3.10/lib/python3.10/site-packages (from paddlepaddle) (1.23.5)\n",
      "Requirement already satisfied: requests>=2.20.0 in /Library/Frameworks/Python.framework/Versions/3.10/lib/python3.10/site-packages (from paddlepaddle) (2.25.1)\n",
      "Requirement already satisfied: six in /Library/Frameworks/Python.framework/Versions/3.10/lib/python3.10/site-packages (from paddlepaddle) (1.16.0)\n",
      "Requirement already satisfied: paddle-bfloat==0.1.7 in /Library/Frameworks/Python.framework/Versions/3.10/lib/python3.10/site-packages (from paddlepaddle) (0.1.7)\n",
      "Requirement already satisfied: opt-einsum==3.3.0 in /Library/Frameworks/Python.framework/Versions/3.10/lib/python3.10/site-packages (from paddlepaddle) (3.3.0)\n",
      "Requirement already satisfied: protobuf<=3.20.0,>=3.1.0 in /Library/Frameworks/Python.framework/Versions/3.10/lib/python3.10/site-packages (from paddlepaddle) (3.20.0)\n",
      "Requirement already satisfied: astor in /Library/Frameworks/Python.framework/Versions/3.10/lib/python3.10/site-packages (from paddlepaddle) (0.8.1)\n",
      "Requirement already satisfied: decorator in /Library/Frameworks/Python.framework/Versions/3.10/lib/python3.10/site-packages (from paddlepaddle) (5.1.1)\n",
      "Requirement already satisfied: Pillow in /Library/Frameworks/Python.framework/Versions/3.10/lib/python3.10/site-packages (from paddlepaddle) (9.3.0)\n",
      "Requirement already satisfied: certifi>=2017.4.17 in /Library/Frameworks/Python.framework/Versions/3.10/lib/python3.10/site-packages (from requests>=2.20.0->paddlepaddle) (2022.9.24)\n",
      "Requirement already satisfied: idna<3,>=2.5 in /Library/Frameworks/Python.framework/Versions/3.10/lib/python3.10/site-packages (from requests>=2.20.0->paddlepaddle) (2.10)\n",
      "Requirement already satisfied: urllib3<1.27,>=1.21.1 in /Library/Frameworks/Python.framework/Versions/3.10/lib/python3.10/site-packages (from requests>=2.20.0->paddlepaddle) (1.26.13)\n",
      "Requirement already satisfied: chardet<5,>=3.0.2 in /Library/Frameworks/Python.framework/Versions/3.10/lib/python3.10/site-packages (from requests>=2.20.0->paddlepaddle) (4.0.0)\n",
      "Note: you may need to restart the kernel to use updated packages.\n"
     ]
    }
   ],
   "source": [
    "pip install paddlepaddle"
   ]
  },
  {
   "cell_type": "code",
   "execution_count": 2,
   "id": "1c592b68",
   "metadata": {},
   "outputs": [
    {
     "name": "stdout",
     "output_type": "stream",
     "text": [
      "Found existing installation: numpy 1.23.5\n",
      "Uninstalling numpy-1.23.5:\n",
      "  Successfully uninstalled numpy-1.23.5\n",
      "Note: you may need to restart the kernel to use updated packages.\n"
     ]
    }
   ],
   "source": [
    "pip uninstall numpy -y"
   ]
  },
  {
   "cell_type": "code",
   "execution_count": 4,
   "id": "53a1bf8f",
   "metadata": {},
   "outputs": [
    {
     "name": "stdout",
     "output_type": "stream",
     "text": [
      "Requirement already satisfied: numpy in /Library/Frameworks/Python.framework/Versions/3.10/lib/python3.10/site-packages (1.23.5)\n",
      "Note: you may need to restart the kernel to use updated packages.\n"
     ]
    }
   ],
   "source": [
    "pip install numpy"
   ]
  },
  {
   "cell_type": "code",
   "execution_count": 5,
   "id": "2a11cd00",
   "metadata": {},
   "outputs": [
    {
     "name": "stdout",
     "output_type": "stream",
     "text": [
      "Requirement already satisfied: pandas in /Library/Frameworks/Python.framework/Versions/3.10/lib/python3.10/site-packages (1.2.4)\n",
      "Requirement already satisfied: python-dateutil>=2.7.3 in /Library/Frameworks/Python.framework/Versions/3.10/lib/python3.10/site-packages (from pandas) (2.8.2)\n",
      "Requirement already satisfied: numpy>=1.16.5 in /Library/Frameworks/Python.framework/Versions/3.10/lib/python3.10/site-packages (from pandas) (1.23.5)\n",
      "Requirement already satisfied: pytz>=2017.3 in /Library/Frameworks/Python.framework/Versions/3.10/lib/python3.10/site-packages (from pandas) (2022.6)\n",
      "Requirement already satisfied: six>=1.5 in /Library/Frameworks/Python.framework/Versions/3.10/lib/python3.10/site-packages (from python-dateutil>=2.7.3->pandas) (1.16.0)\n",
      "Note: you may need to restart the kernel to use updated packages.\n"
     ]
    }
   ],
   "source": [
    "pip install pandas"
   ]
  },
  {
   "cell_type": "code",
   "execution_count": 8,
   "id": "a517daae",
   "metadata": {},
   "outputs": [
    {
     "name": "stdout",
     "output_type": "stream",
     "text": [
      "Requirement already satisfied: tqdm in /Library/Frameworks/Python.framework/Versions/3.10/lib/python3.10/site-packages (4.64.1)\n",
      "Note: you may need to restart the kernel to use updated packages.\n"
     ]
    }
   ],
   "source": [
    "pip install tqdm"
   ]
  },
  {
   "cell_type": "code",
   "execution_count": 2,
   "id": "0974eae6",
   "metadata": {},
   "outputs": [
    {
     "name": "stderr",
     "output_type": "stream",
     "text": [
      "/Library/Frameworks/Python.framework/Versions/3.10/lib/python3.10/site-packages/pandas/compat/numpy/__init__.py:10: DeprecationWarning: distutils Version classes are deprecated. Use packaging.version instead.\n",
      "  _nlv = LooseVersion(_np_version)\n",
      "/Library/Frameworks/Python.framework/Versions/3.10/lib/python3.10/site-packages/pandas/compat/numpy/__init__.py:11: DeprecationWarning: distutils Version classes are deprecated. Use packaging.version instead.\n",
      "  np_version_under1p17 = _nlv < LooseVersion(\"1.17\")\n",
      "/Library/Frameworks/Python.framework/Versions/3.10/lib/python3.10/site-packages/pandas/compat/numpy/__init__.py:12: DeprecationWarning: distutils Version classes are deprecated. Use packaging.version instead.\n",
      "  np_version_under1p18 = _nlv < LooseVersion(\"1.18\")\n",
      "/Library/Frameworks/Python.framework/Versions/3.10/lib/python3.10/site-packages/pandas/compat/numpy/__init__.py:13: DeprecationWarning: distutils Version classes are deprecated. Use packaging.version instead.\n",
      "  _np_version_under1p19 = _nlv < LooseVersion(\"1.19\")\n",
      "/Library/Frameworks/Python.framework/Versions/3.10/lib/python3.10/site-packages/pandas/compat/numpy/__init__.py:14: DeprecationWarning: distutils Version classes are deprecated. Use packaging.version instead.\n",
      "  _np_version_under1p20 = _nlv < LooseVersion(\"1.20\")\n",
      "/Library/Frameworks/Python.framework/Versions/3.10/lib/python3.10/site-packages/setuptools/_distutils/version.py:346: DeprecationWarning: distutils Version classes are deprecated. Use packaging.version instead.\n",
      "  other = LooseVersion(other)\n",
      "/Library/Frameworks/Python.framework/Versions/3.10/lib/python3.10/site-packages/pandas/compat/numpy/function.py:120: DeprecationWarning: distutils Version classes are deprecated. Use packaging.version instead.\n",
      "  if LooseVersion(__version__) >= LooseVersion(\"1.17.0\"):\n",
      "/Library/Frameworks/Python.framework/Versions/3.10/lib/python3.10/site-packages/faiss/loader.py:28: DeprecationWarning: distutils Version classes are deprecated. Use packaging.version instead.\n",
      "  if LooseVersion(numpy.__version__) >= \"1.19\":\n",
      "/Library/Frameworks/Python.framework/Versions/3.10/lib/python3.10/site-packages/setuptools/_distutils/version.py:346: DeprecationWarning: distutils Version classes are deprecated. Use packaging.version instead.\n",
      "  other = LooseVersion(other)\n"
     ]
    }
   ],
   "source": [
    "import paddle\n",
    "from paddle import nn\n",
    "from paddle.io import DataLoader, Dataset\n",
    "import paddle.nn.functional as F\n",
    "import pandas as pd\n",
    "import numpy as np\n",
    "import copy\n",
    "import os\n",
    "import math\n",
    "import random\n",
    "from sklearn.metrics import roc_auc_score,log_loss\n",
    "from sklearn.preprocessing import normalize\n",
    "from tqdm import tqdm\n",
    "from collections import defaultdict\n",
    "from sklearn.manifold import TSNE\n",
    "from matplotlib import pyplot as plt\n",
    "import faiss\n",
    "import warnings\n",
    "warnings.filterwarnings(\"ignore\")"
   ]
  },
  {
   "cell_type": "code",
   "execution_count": 16,
   "id": "f48aca0e",
   "metadata": {},
   "outputs": [],
   "source": [
    "# 构建数据集\n",
    "class SeqnenceDataset(Dataset):\n",
    "    def __init__(self, config, df, phase='train'):\n",
    "        self.config = config\n",
    "        self.df = df\n",
    "        self.max_length = self.config['max_length']\n",
    "        self.df = self.df.sort_values(by=['user_id', 'timestamp'])\n",
    "        self.user2item = self.df.groupby('user_id')['item_id'].apply(list).to_dict()\n",
    "        self.user_list = self.df['user_id'].unique()\n",
    "        self.phase = phase\n",
    "    def __len__(self, ):\n",
    "        return len(self.user2item)\n",
    "    def __getitem__(self, index):\n",
    "        if self.phase == 'train':\n",
    "            user_id = self.user_list[index]\n",
    "            item_list = self.user2item[user_id]\n",
    "            hist_item_list = []\n",
    "            hist_mask_list = []\n",
    "            k = random.choice(range(4, len(item_list)))\n",
    "            item_id = item_list[k] \n",
    "            if k >= self.max_length: \n",
    "                hist_item_list.append(item_list[k - self.max_length: k])\n",
    "                hist_mask_list.append([1.0] * self.max_length)\n",
    "            else:\n",
    "                hist_item_list.append(item_list[:k] + [0] * (self.max_length - k))\n",
    "                hist_mask_list.append([1.0] * k + [0.0] * (self.max_length - k))\n",
    "\n",
    "            return paddle.to_tensor(hist_item_list).squeeze(0), paddle.to_tensor(hist_mask_list).squeeze(\n",
    "                0), paddle.to_tensor([item_id])\n",
    "        else:\n",
    "            user_id = self.user_list[index]\n",
    "            item_list = self.user2item[user_id]\n",
    "            hist_item_list = []\n",
    "            hist_mask_list = []\n",
    "            k = int(0.8 * len(item_list))\n",
    "            if k >= self.max_length: \n",
    "                hist_item_list.append(item_list[k - self.max_length: k])\n",
    "                hist_mask_list.append([1.0] * self.max_length)\n",
    "            else:\n",
    "                hist_item_list.append(item_list[:k] + [0] * (self.max_length - k))\n",
    "                hist_mask_list.append([1.0] * k + [0.0] * (self.max_length - k))\n",
    "            return paddle.to_tensor(hist_item_list).squeeze(0), paddle.to_tensor(hist_mask_list).squeeze(\n",
    "                0), item_list[k:]\n",
    "\n",
    "    def get_test_gd(self):\n",
    "        self.test_gd = {}\n",
    "        for user in self.user2item:\n",
    "            item_list = self.user2item[user]\n",
    "            test_item_index = int(0.8 * len(item_list))\n",
    "            self.test_gd[user] = item_list[test_item_index:]\n",
    "        return self.test_gd"
   ]
  },
  {
   "cell_type": "code",
   "execution_count": 17,
   "id": "2e2a66d4",
   "metadata": {},
   "outputs": [],
   "source": [
    "# 基础序列召回模型\n",
    "class GRU4Rec(nn.Layer):\n",
    "    def __init__(self, config):\n",
    "        super(GRU4Rec, self).__init__()\n",
    "        self.config = config\n",
    "        self.embedding_dim = self.config['embedding_dim']\n",
    "        self.max_length = self.config['max_length']\n",
    "        self.n_items = self.config['n_items']\n",
    "        self.num_layers = self.config['num_layers']\n",
    "        self.item_emb = nn.Embedding(self.n_items, self.embedding_dim, padding_idx=0)\n",
    "        self.gru = nn.GRU(\n",
    "            input_size=self.embedding_dim,\n",
    "            hidden_size=self.embedding_dim,\n",
    "            num_layers=self.num_layers,\n",
    "            time_major=False,\n",
    "        )\n",
    "        self.loss_fun = nn.CrossEntropyLoss()\n",
    "        self.reset_parameters()\n",
    "    def calculate_loss(self,user_emb,pos_item):\n",
    "        all_items = self.item_emb.weight\n",
    "        scores = paddle.matmul(user_emb, all_items.transpose([1, 0]))\n",
    "        return self.loss_fun(scores,pos_item)\n",
    "    \n",
    "    def output_items(self):\n",
    "        return self.item_emb.weight\n",
    "    \n",
    "    def reset_parameters(self, initializer=None):\n",
    "        for weight in self.parameters():\n",
    "            paddle.nn.initializer.KaimingNormal(weight)\n",
    "            \n",
    "    def forward(self, item_seq, mask, item, train=True):\n",
    "        seq_emb = self.item_emb(item_seq)\n",
    "        seq_emb,_ = self.gru(seq_emb)\n",
    "        user_emb = seq_emb[:,-1,:] \n",
    "        if train:\n",
    "            loss = self.calculate_loss(user_emb,item)\n",
    "            output_dict = {\n",
    "                'user_emb':user_emb,\n",
    "                'loss':loss\n",
    "            }\n",
    "        else:\n",
    "            output_dict = {\n",
    "                'user_emb':user_emb\n",
    "            }\n",
    "        return output_dict"
   ]
  },
  {
   "cell_type": "code",
   "execution_count": 18,
   "id": "7deada68",
   "metadata": {},
   "outputs": [],
   "source": [
    "# pipeline\n",
    "config = {\n",
    "    'train_path':'/Users/yxy/PycharmProjects/序列召回data/train_enc.csv',\n",
    "    'valid_path':'/Users/yxy/PycharmProjects/序列召回data/valid_enc.csv',\n",
    "    'test_path':'/Users/yxy/PycharmProjects/序列召回data/test_enc.csv',\n",
    "    'lr':1e-4,\n",
    "    'Epoch':100,\n",
    "    'batch_size':256,\n",
    "    'embedding_dim':16,\n",
    "    'num_layers':1,\n",
    "    'max_length':20,\n",
    "    'n_items':15406,\n",
    "    'K':4\n",
    "}"
   ]
  },
  {
   "cell_type": "code",
   "execution_count": 19,
   "id": "72246605",
   "metadata": {},
   "outputs": [],
   "source": [
    "def my_collate(batch):\n",
    "    hist_item, hist_mask, item_list = list(zip(*batch))\n",
    "\n",
    "    hist_item = [x.unsqueeze(0) for x in hist_item]\n",
    "    hist_mask = [x.unsqueeze(0) for x in hist_mask]\n",
    "\n",
    "    hist_item = paddle.concat(hist_item,axis=0)\n",
    "    hist_mask = paddle.concat(hist_mask,axis=0)\n",
    "    return hist_item,hist_mask,item_list"
   ]
  },
  {
   "cell_type": "code",
   "execution_count": 20,
   "id": "49d660f0",
   "metadata": {},
   "outputs": [],
   "source": [
    "def save_model(model, path):\n",
    "    if not os.path.exists(path):\n",
    "        os.makedirs(path)\n",
    "    paddle.save(model.state_dict(), path + 'model.pdparams')\n",
    "def load_model(model, path):\n",
    "    state_dict = paddle.load(path + 'model.pdparams')\n",
    "    model.set_state_dict(state_dict)\n",
    "    print('model loaded from %s' % path)\n",
    "    return model"
   ]
  },
  {
   "cell_type": "code",
   "execution_count": 21,
   "id": "7ff702f6",
   "metadata": {},
   "outputs": [],
   "source": [
    "# 基于faiss的向量召回\n",
    "def get_predict(model, test_data, hidden_size, topN=20):\n",
    "    item_embs = model.output_items().cpu().detach().numpy()\n",
    "    item_embs = normalize(item_embs, norm='l2')\n",
    "    gpu_index = faiss.IndexFlatIP(hidden_size)\n",
    "    gpu_index.add(item_embs)    \n",
    "    test_gd = dict()\n",
    "    preds = dict() \n",
    "    user_id = 0\n",
    "\n",
    "    for (item_seq, mask, targets) in tqdm(test_data): # 获取用户嵌入\n",
    "        user_embs = model(item_seq,mask,None,train=False)['user_emb']\n",
    "        user_embs = user_embs.cpu().detach().numpy()\n",
    "# 使用内积作为指标，内积越大越相似\n",
    "# 多兴趣模型，shape=(batch_size, num_interest, embedding_dim)\n",
    "# 其他模型，shape=(batch_size, embedding_dim)\n",
    "    if len(user_embs.shape) == 2: # 非多兴趣模型\n",
    "            user_embs = normalize(user_embs, norm='l2').astype('float32')\n",
    "            D, I = gpu_index.search(user_embs, topN)\n",
    "            for i, iid_list in enumerate(targets): \n",
    "                test_gd[user_id] = iid_list\n",
    "                preds[user_id] = I[i,:]\n",
    "                user_id +=1\n",
    "    else:  # 多兴趣模型\n",
    "            ni = user_embs.shape[1] \n",
    "            user_embs = np.reshape(user_embs,\n",
    "                                   [-1, user_embs.shape[-1]])  \n",
    "            user_embs = normalize(user_embs, norm='l2').astype('float32')\n",
    "            D, I = gpu_index.search(user_embs, topN)  \n",
    "            for i, iid_list in enumerate(targets):  \n",
    "                recall = 0\n",
    "                dcg = 0.0\n",
    "                item_list_set = []\n",
    "                item_list = list(\n",
    "                    zip(np.reshape(I[i * ni:(i + 1) * ni], -1), np.reshape(D[i * ni:(i + 1) * ni], -1)))\n",
    "                item_list.sort(key=lambda x: x[1], reverse=True)  \n",
    "                for j in range(len(item_list)): \n",
    "                    if item_list[j][0] not in item_list_set and item_list[j][0] != 0:\n",
    "                        item_list_set.append(item_list[j][0])\n",
    "                        if len(item_list_set) >= topN:\n",
    "                            break\n",
    "                test_gd[user_id] = iid_list\n",
    "                preds[user_id] = item_list_set\n",
    "                user_id +=1\n",
    "    return test_gd, preds"
   ]
  },
  {
   "cell_type": "code",
   "execution_count": 22,
   "id": "09a21035",
   "metadata": {},
   "outputs": [],
   "source": [
    "def evaluate(preds,test_gd, topN=50):\n",
    "    total_recall = 0.0\n",
    "    total_ndcg = 0.0\n",
    "    total_hitrate = 0\n",
    "    for user in test_gd.keys():\n",
    "        recall = 0\n",
    "        dcg = 0.0\n",
    "        item_list = test_gd[user]\n",
    "        for no, item_id in enumerate(item_list):\n",
    "            if item_id in preds[user][:topN]:\n",
    "                recall += 1\n",
    "                dcg += 1.0 / math.log(no+2, 2)\n",
    "            idcg = 0.0\n",
    "            for no in range(recall):\n",
    "                idcg += 1.0 / math.log(no+2, 2)\n",
    "        total_recall += recall * 1.0 / len(item_list)\n",
    "        if recall > 0:\n",
    "            total_ndcg += dcg / idcg\n",
    "            total_hitrate += 1\n",
    "    total = len(test_gd)\n",
    "    recall = total_recall / total\n",
    "    ndcg = total_ndcg / total\n",
    "    hitrate = total_hitrate * 1.0 / total\n",
    "    return {f'recall@{topN}': recall, f'ndcg@{topN}': ndcg, f'hitrate@{topN}': hitrate}\n",
    "def evaluate_model(model, test_loader, embedding_dim,topN=20):\n",
    "    test_gd, preds = get_predict(model, test_loader, embedding_dim, topN=topN)\n",
    "    return evaluate(preds, test_gd, topN=topN)"
   ]
  },
  {
   "cell_type": "code",
   "execution_count": 23,
   "id": "a10cb3ce",
   "metadata": {},
   "outputs": [],
   "source": [
    "# 读取数据\n",
    "train_df = pd.read_csv(config['train_path'])\n",
    "valid_df = pd.read_csv(config['valid_path'])\n",
    "test_df = pd.read_csv(config['test_path'])\n",
    "train_dataset = SeqnenceDataset(config, train_df, phase='train')\n",
    "valid_dataset = SeqnenceDataset(config, valid_df, phase='test')\n",
    "test_dataset = SeqnenceDataset(config, test_df, phase='test')\n",
    "train_loader = DataLoader(dataset=train_dataset, batch_size=config['batch_size'], shuffle=True,num_workers=8)\n",
    "valid_loader = DataLoader(dataset=valid_dataset, batch_size=config['batch_size'], shuffle=False,collate_fn=my_collate)\n",
    "test_loader = DataLoader(dataset=test_dataset, batch_size=config['batch_size'], shuffle=False,collate_fn=my_collate)"
   ]
  },
  {
   "cell_type": "code",
   "execution_count": 30,
   "id": "6559dc84",
   "metadata": {},
   "outputs": [],
   "source": [
    "model = GRU4Rec(config)\n",
    "optimizer = paddle.optimizer.Adam(parameters=model.parameters(), learning_rate=config['lr'])\n",
    "log_df = pd.DataFrame()\n",
    "best_recall = -1\n",
    "exp_path = './exp/ml-20m_softmax/MIND_{}_{}_{}/'.format(config['lr'],config['batch_size'],config['embedding_dim'])\n",
    "os.makedirs(exp_path,exist_ok=True,mode=0o777)\n",
    "patience = 5\n",
    "last_improve_epoch = 1\n",
    "log_csv = exp_path+'log.csv'"
   ]
  },
  {
   "cell_type": "code",
   "execution_count": 36,
   "id": "424a5544",
   "metadata": {
    "scrolled": true
   },
   "outputs": [
    {
     "name": "stderr",
     "output_type": "stream",
     "text": [
      "Epoch [1/100]:   0%|                 | 2/431 [00:00<00:22, 18.91it/s, loss=6.99]"
     ]
    },
    {
     "name": "stdout",
     "output_type": "stream",
     "text": [
      "\n",
      "training:\n",
      "\n"
     ]
    },
    {
     "name": "stderr",
     "output_type": "stream",
     "text": [
      "Epoch [1/100]: 100%|███████████████| 431/431 [00:11<00:00, 37.13it/s, loss=6.96]\n"
     ]
    },
    {
     "name": "stdout",
     "output_type": "stream",
     "text": [
      "Valid\n"
     ]
    },
    {
     "name": "stderr",
     "output_type": "stream",
     "text": [
      "100%|███████████████████████████████████████████| 54/54 [00:00<00:00, 94.02it/s]\n"
     ]
    },
    {
     "name": "stdout",
     "output_type": "stream",
     "text": [
      "{'recall@50': 0.11139785565343806, 'ndcg@50': 0.3019419176714169, 'hitrate@50': 0.5591397849462365}\n"
     ]
    },
    {
     "name": "stderr",
     "output_type": "stream",
     "text": [
      "Epoch [2/100]:   1%|▏                   | 3/431 [00:00<00:14, 29.45it/s, loss=7]"
     ]
    },
    {
     "name": "stdout",
     "output_type": "stream",
     "text": [
      "\n",
      "training:\n",
      "\n"
     ]
    },
    {
     "name": "stderr",
     "output_type": "stream",
     "text": [
      "Epoch [2/100]: 100%|███████████████| 431/431 [00:11<00:00, 37.66it/s, loss=6.96]\n"
     ]
    },
    {
     "name": "stdout",
     "output_type": "stream",
     "text": [
      "Valid\n"
     ]
    },
    {
     "name": "stderr",
     "output_type": "stream",
     "text": [
      "100%|███████████████████████████████████████████| 54/54 [00:00<00:00, 95.05it/s]\n"
     ]
    },
    {
     "name": "stdout",
     "output_type": "stream",
     "text": [
      "{'recall@50': 0.10662168764875508, 'ndcg@50': 0.302885713200126, 'hitrate@50': 0.5698924731182796}\n"
     ]
    },
    {
     "name": "stderr",
     "output_type": "stream",
     "text": [
      "Epoch [3/100]:   1%|▏                | 4/431 [00:00<00:13, 31.31it/s, loss=6.97]"
     ]
    },
    {
     "name": "stdout",
     "output_type": "stream",
     "text": [
      "\n",
      "training:\n",
      "\n"
     ]
    },
    {
     "name": "stderr",
     "output_type": "stream",
     "text": [
      "Epoch [3/100]: 100%|███████████████| 431/431 [00:11<00:00, 37.04it/s, loss=6.96]\n"
     ]
    },
    {
     "name": "stdout",
     "output_type": "stream",
     "text": [
      "Valid\n"
     ]
    },
    {
     "name": "stderr",
     "output_type": "stream",
     "text": [
      "100%|███████████████████████████████████████████| 54/54 [00:00<00:00, 95.00it/s]\n"
     ]
    },
    {
     "name": "stdout",
     "output_type": "stream",
     "text": [
      "{'recall@50': 0.11225716374791661, 'ndcg@50': 0.31262614728067406, 'hitrate@50': 0.5752688172043011}\n"
     ]
    },
    {
     "name": "stderr",
     "output_type": "stream",
     "text": [
      "Epoch [4/100]:   1%|                 | 3/431 [00:00<00:14, 28.56it/s, loss=6.89]"
     ]
    },
    {
     "name": "stdout",
     "output_type": "stream",
     "text": [
      "\n",
      "training:\n",
      "\n"
     ]
    },
    {
     "name": "stderr",
     "output_type": "stream",
     "text": [
      "Epoch [4/100]: 100%|███████████████| 431/431 [00:11<00:00, 37.12it/s, loss=6.96]\n"
     ]
    },
    {
     "name": "stdout",
     "output_type": "stream",
     "text": [
      "Valid\n"
     ]
    },
    {
     "name": "stderr",
     "output_type": "stream",
     "text": [
      "100%|███████████████████████████████████████████| 54/54 [00:00<00:00, 94.67it/s]\n"
     ]
    },
    {
     "name": "stdout",
     "output_type": "stream",
     "text": [
      "{'recall@50': 0.11257907942500081, 'ndcg@50': 0.3045009303473332, 'hitrate@50': 0.5698924731182796}\n"
     ]
    },
    {
     "name": "stderr",
     "output_type": "stream",
     "text": [
      "Epoch [5/100]:   1%|                 | 3/431 [00:00<00:14, 29.98it/s, loss=6.96]"
     ]
    },
    {
     "name": "stdout",
     "output_type": "stream",
     "text": [
      "\n",
      "training:\n",
      "\n"
     ]
    },
    {
     "name": "stderr",
     "output_type": "stream",
     "text": [
      "Epoch [5/100]: 100%|███████████████| 431/431 [00:11<00:00, 36.98it/s, loss=6.96]\n"
     ]
    },
    {
     "name": "stdout",
     "output_type": "stream",
     "text": [
      "Valid\n"
     ]
    },
    {
     "name": "stderr",
     "output_type": "stream",
     "text": [
      "100%|███████████████████████████████████████████| 54/54 [00:00<00:00, 94.77it/s]\n"
     ]
    },
    {
     "name": "stdout",
     "output_type": "stream",
     "text": [
      "{'recall@50': 0.11079256486099175, 'ndcg@50': 0.3072709741451434, 'hitrate@50': 0.5698924731182796}\n"
     ]
    },
    {
     "name": "stderr",
     "output_type": "stream",
     "text": [
      "Epoch [6/100]:   1%|                 | 3/431 [00:00<00:14, 29.49it/s, loss=6.96]"
     ]
    },
    {
     "name": "stdout",
     "output_type": "stream",
     "text": [
      "\n",
      "training:\n",
      "\n"
     ]
    },
    {
     "name": "stderr",
     "output_type": "stream",
     "text": [
      "Epoch [6/100]: 100%|███████████████| 431/431 [00:11<00:00, 37.56it/s, loss=6.95]\n"
     ]
    },
    {
     "name": "stdout",
     "output_type": "stream",
     "text": [
      "Valid\n"
     ]
    },
    {
     "name": "stderr",
     "output_type": "stream",
     "text": [
      "100%|███████████████████████████████████████████| 54/54 [00:00<00:00, 94.83it/s]\n"
     ]
    },
    {
     "name": "stdout",
     "output_type": "stream",
     "text": [
      "{'recall@50': 0.11593127701519625, 'ndcg@50': 0.31284499598454407, 'hitrate@50': 0.5752688172043011}\n"
     ]
    },
    {
     "name": "stderr",
     "output_type": "stream",
     "text": [
      "Epoch [7/100]:   1%|▏                | 4/431 [00:00<00:12, 33.05it/s, loss=6.99]"
     ]
    },
    {
     "name": "stdout",
     "output_type": "stream",
     "text": [
      "\n",
      "training:\n",
      "\n"
     ]
    },
    {
     "name": "stderr",
     "output_type": "stream",
     "text": [
      "Epoch [7/100]: 100%|███████████████| 431/431 [00:11<00:00, 37.91it/s, loss=6.95]\n"
     ]
    },
    {
     "name": "stdout",
     "output_type": "stream",
     "text": [
      "Valid\n"
     ]
    },
    {
     "name": "stderr",
     "output_type": "stream",
     "text": [
      "100%|███████████████████████████████████████████| 54/54 [00:00<00:00, 94.61it/s]\n"
     ]
    },
    {
     "name": "stdout",
     "output_type": "stream",
     "text": [
      "{'recall@50': 0.11319713490095346, 'ndcg@50': 0.30351181317927156, 'hitrate@50': 0.5698924731182796}\n"
     ]
    },
    {
     "name": "stderr",
     "output_type": "stream",
     "text": [
      "Epoch [8/100]:   1%|                 | 3/431 [00:00<00:14, 29.05it/s, loss=6.91]"
     ]
    },
    {
     "name": "stdout",
     "output_type": "stream",
     "text": [
      "\n",
      "training:\n",
      "\n"
     ]
    },
    {
     "name": "stderr",
     "output_type": "stream",
     "text": [
      "Epoch [8/100]: 100%|███████████████| 431/431 [00:11<00:00, 37.71it/s, loss=6.95]\n"
     ]
    },
    {
     "name": "stdout",
     "output_type": "stream",
     "text": [
      "Valid\n"
     ]
    },
    {
     "name": "stderr",
     "output_type": "stream",
     "text": [
      "100%|███████████████████████████████████████████| 54/54 [00:00<00:00, 94.65it/s]\n"
     ]
    },
    {
     "name": "stdout",
     "output_type": "stream",
     "text": [
      "{'recall@50': 0.11288438156206312, 'ndcg@50': 0.30293386835045416, 'hitrate@50': 0.5698924731182796}\n"
     ]
    },
    {
     "name": "stderr",
     "output_type": "stream",
     "text": [
      "Epoch [9/100]:   1%|▏                | 4/431 [00:00<00:12, 33.45it/s, loss=6.97]"
     ]
    },
    {
     "name": "stdout",
     "output_type": "stream",
     "text": [
      "\n",
      "training:\n",
      "\n"
     ]
    },
    {
     "name": "stderr",
     "output_type": "stream",
     "text": [
      "Epoch [9/100]: 100%|███████████████| 431/431 [00:11<00:00, 37.89it/s, loss=6.94]\n"
     ]
    },
    {
     "name": "stdout",
     "output_type": "stream",
     "text": [
      "Valid\n"
     ]
    },
    {
     "name": "stderr",
     "output_type": "stream",
     "text": [
      "100%|███████████████████████████████████████████| 54/54 [00:00<00:00, 94.35it/s]\n"
     ]
    },
    {
     "name": "stdout",
     "output_type": "stream",
     "text": [
      "{'recall@50': 0.11205778133002667, 'ndcg@50': 0.2985495193966641, 'hitrate@50': 0.5698924731182796}\n"
     ]
    },
    {
     "name": "stderr",
     "output_type": "stream",
     "text": [
      "Epoch [10/100]:   1%|                | 3/431 [00:00<00:14, 28.55it/s, loss=6.91]"
     ]
    },
    {
     "name": "stdout",
     "output_type": "stream",
     "text": [
      "\n",
      "training:\n",
      "\n"
     ]
    },
    {
     "name": "stderr",
     "output_type": "stream",
     "text": [
      "Epoch [10/100]: 100%|██████████████| 431/431 [00:11<00:00, 37.54it/s, loss=6.94]\n"
     ]
    },
    {
     "name": "stdout",
     "output_type": "stream",
     "text": [
      "Valid\n"
     ]
    },
    {
     "name": "stderr",
     "output_type": "stream",
     "text": [
      "100%|███████████████████████████████████████████| 54/54 [00:00<00:00, 94.32it/s]\n"
     ]
    },
    {
     "name": "stdout",
     "output_type": "stream",
     "text": [
      "{'recall@50': 0.11666754562613657, 'ndcg@50': 0.3050770224118572, 'hitrate@50': 0.5698924731182796}\n"
     ]
    },
    {
     "name": "stderr",
     "output_type": "stream",
     "text": [
      "Epoch [11/100]:   1%|                | 3/431 [00:00<00:14, 29.79it/s, loss=6.92]"
     ]
    },
    {
     "name": "stdout",
     "output_type": "stream",
     "text": [
      "\n",
      "training:\n",
      "\n"
     ]
    },
    {
     "name": "stderr",
     "output_type": "stream",
     "text": [
      "Epoch [11/100]: 100%|██████████████| 431/431 [00:11<00:00, 37.65it/s, loss=6.94]\n"
     ]
    },
    {
     "name": "stdout",
     "output_type": "stream",
     "text": [
      "Valid\n"
     ]
    },
    {
     "name": "stderr",
     "output_type": "stream",
     "text": [
      "100%|███████████████████████████████████████████| 54/54 [00:00<00:00, 95.85it/s]\n"
     ]
    },
    {
     "name": "stdout",
     "output_type": "stream",
     "text": [
      "{'recall@50': 0.11469304623383947, 'ndcg@50': 0.3065544726319968, 'hitrate@50': 0.5645161290322581}\n"
     ]
    },
    {
     "name": "stderr",
     "output_type": "stream",
     "text": [
      "Epoch [12/100]:   1%|▏               | 4/431 [00:00<00:12, 32.93it/s, loss=6.99]"
     ]
    },
    {
     "name": "stdout",
     "output_type": "stream",
     "text": [
      "\n",
      "training:\n",
      "\n"
     ]
    },
    {
     "name": "stderr",
     "output_type": "stream",
     "text": [
      "Epoch [12/100]: 100%|██████████████| 431/431 [00:11<00:00, 37.95it/s, loss=6.94]\n"
     ]
    },
    {
     "name": "stdout",
     "output_type": "stream",
     "text": [
      "Valid\n"
     ]
    },
    {
     "name": "stderr",
     "output_type": "stream",
     "text": [
      "100%|███████████████████████████████████████████| 54/54 [00:00<00:00, 94.78it/s]\n"
     ]
    },
    {
     "name": "stdout",
     "output_type": "stream",
     "text": [
      "{'recall@50': 0.12176254970085425, 'ndcg@50': 0.3144283253608912, 'hitrate@50': 0.5752688172043011}\n"
     ]
    },
    {
     "name": "stderr",
     "output_type": "stream",
     "text": [
      "Epoch [13/100]:   1%|▏               | 4/431 [00:00<00:13, 32.18it/s, loss=6.95]"
     ]
    },
    {
     "name": "stdout",
     "output_type": "stream",
     "text": [
      "\n",
      "training:\n",
      "\n"
     ]
    },
    {
     "name": "stderr",
     "output_type": "stream",
     "text": [
      "Epoch [13/100]: 100%|██████████████| 431/431 [00:11<00:00, 37.64it/s, loss=6.94]\n"
     ]
    },
    {
     "name": "stdout",
     "output_type": "stream",
     "text": [
      "Valid\n"
     ]
    },
    {
     "name": "stderr",
     "output_type": "stream",
     "text": [
      "100%|███████████████████████████████████████████| 54/54 [00:00<00:00, 94.75it/s]\n"
     ]
    },
    {
     "name": "stdout",
     "output_type": "stream",
     "text": [
      "{'recall@50': 0.12490881790255597, 'ndcg@50': 0.31959823354271605, 'hitrate@50': 0.5806451612903226}\n"
     ]
    },
    {
     "name": "stderr",
     "output_type": "stream",
     "text": [
      "Epoch [14/100]:   1%|▏               | 4/431 [00:00<00:13, 31.74it/s, loss=6.99]"
     ]
    },
    {
     "name": "stdout",
     "output_type": "stream",
     "text": [
      "\n",
      "training:\n",
      "\n"
     ]
    },
    {
     "name": "stderr",
     "output_type": "stream",
     "text": [
      "Epoch [14/100]: 100%|██████████████| 431/431 [00:11<00:00, 37.99it/s, loss=6.93]\n"
     ]
    },
    {
     "name": "stdout",
     "output_type": "stream",
     "text": [
      "Valid\n"
     ]
    },
    {
     "name": "stderr",
     "output_type": "stream",
     "text": [
      "100%|███████████████████████████████████████████| 54/54 [00:00<00:00, 94.67it/s]\n"
     ]
    },
    {
     "name": "stdout",
     "output_type": "stream",
     "text": [
      "{'recall@50': 0.12480677119165645, 'ndcg@50': 0.322201444468081, 'hitrate@50': 0.5806451612903226}\n"
     ]
    },
    {
     "name": "stderr",
     "output_type": "stream",
     "text": [
      "Epoch [15/100]:   1%|                | 3/431 [00:00<00:14, 29.80it/s, loss=6.92]"
     ]
    },
    {
     "name": "stdout",
     "output_type": "stream",
     "text": [
      "\n",
      "training:\n",
      "\n"
     ]
    },
    {
     "name": "stderr",
     "output_type": "stream",
     "text": [
      "Epoch [15/100]: 100%|██████████████| 431/431 [00:11<00:00, 37.90it/s, loss=6.93]\n"
     ]
    },
    {
     "name": "stdout",
     "output_type": "stream",
     "text": [
      "Valid\n"
     ]
    },
    {
     "name": "stderr",
     "output_type": "stream",
     "text": [
      "100%|███████████████████████████████████████████| 54/54 [00:00<00:00, 94.64it/s]\n"
     ]
    },
    {
     "name": "stdout",
     "output_type": "stream",
     "text": [
      "{'recall@50': 0.12580451836395679, 'ndcg@50': 0.3137300848000095, 'hitrate@50': 0.5698924731182796}\n"
     ]
    },
    {
     "name": "stderr",
     "output_type": "stream",
     "text": [
      "Epoch [16/100]:   1%|                | 3/431 [00:00<00:15, 28.17it/s, loss=6.93]"
     ]
    },
    {
     "name": "stdout",
     "output_type": "stream",
     "text": [
      "\n",
      "training:\n",
      "\n"
     ]
    },
    {
     "name": "stderr",
     "output_type": "stream",
     "text": [
      "Epoch [16/100]: 100%|██████████████| 431/431 [00:11<00:00, 37.95it/s, loss=6.92]\n"
     ]
    },
    {
     "name": "stdout",
     "output_type": "stream",
     "text": [
      "Valid\n"
     ]
    },
    {
     "name": "stderr",
     "output_type": "stream",
     "text": [
      "100%|███████████████████████████████████████████| 54/54 [00:00<00:00, 94.36it/s]\n"
     ]
    },
    {
     "name": "stdout",
     "output_type": "stream",
     "text": [
      "{'recall@50': 0.11748942619805815, 'ndcg@50': 0.30757363049044645, 'hitrate@50': 0.5645161290322581}\n"
     ]
    },
    {
     "name": "stderr",
     "output_type": "stream",
     "text": [
      "Epoch [17/100]:   1%|▏               | 4/431 [00:00<00:13, 31.75it/s, loss=6.92]"
     ]
    },
    {
     "name": "stdout",
     "output_type": "stream",
     "text": [
      "\n",
      "training:\n",
      "\n"
     ]
    },
    {
     "name": "stderr",
     "output_type": "stream",
     "text": [
      "Epoch [17/100]: 100%|██████████████| 431/431 [00:11<00:00, 37.84it/s, loss=6.93]\n"
     ]
    },
    {
     "name": "stdout",
     "output_type": "stream",
     "text": [
      "Valid\n"
     ]
    },
    {
     "name": "stderr",
     "output_type": "stream",
     "text": [
      "100%|███████████████████████████████████████████| 54/54 [00:00<00:00, 94.23it/s]\n"
     ]
    },
    {
     "name": "stdout",
     "output_type": "stream",
     "text": [
      "{'recall@50': 0.12095260009543737, 'ndcg@50': 0.3227360927439191, 'hitrate@50': 0.5806451612903226}\n"
     ]
    },
    {
     "name": "stderr",
     "output_type": "stream",
     "text": [
      "Epoch [18/100]:   1%|▏               | 4/431 [00:00<00:13, 32.31it/s, loss=7.02]"
     ]
    },
    {
     "name": "stdout",
     "output_type": "stream",
     "text": [
      "\n",
      "training:\n",
      "\n"
     ]
    },
    {
     "name": "stderr",
     "output_type": "stream",
     "text": [
      "Epoch [18/100]: 100%|██████████████| 431/431 [00:11<00:00, 38.05it/s, loss=6.93]\n"
     ]
    },
    {
     "name": "stdout",
     "output_type": "stream",
     "text": [
      "Valid\n"
     ]
    },
    {
     "name": "stderr",
     "output_type": "stream",
     "text": [
      "100%|███████████████████████████████████████████| 54/54 [00:00<00:00, 95.52it/s]\n"
     ]
    },
    {
     "name": "stdout",
     "output_type": "stream",
     "text": [
      "{'recall@50': 0.12120648539627982, 'ndcg@50': 0.32310131897990424, 'hitrate@50': 0.5806451612903226}\n"
     ]
    },
    {
     "name": "stderr",
     "output_type": "stream",
     "text": [
      "Epoch [19/100]:   1%|                | 3/431 [00:00<00:14, 28.77it/s, loss=6.93]"
     ]
    },
    {
     "name": "stdout",
     "output_type": "stream",
     "text": [
      "\n",
      "training:\n",
      "\n"
     ]
    },
    {
     "name": "stderr",
     "output_type": "stream",
     "text": [
      "Epoch [19/100]: 100%|██████████████| 431/431 [00:11<00:00, 37.96it/s, loss=6.92]\n"
     ]
    },
    {
     "name": "stdout",
     "output_type": "stream",
     "text": [
      "Valid\n"
     ]
    },
    {
     "name": "stderr",
     "output_type": "stream",
     "text": [
      "100%|███████████████████████████████████████████| 54/54 [00:00<00:00, 93.95it/s]\n"
     ]
    },
    {
     "name": "stdout",
     "output_type": "stream",
     "text": [
      "{'recall@50': 0.12201764883616985, 'ndcg@50': 0.32140123742998344, 'hitrate@50': 0.5860215053763441}\n"
     ]
    },
    {
     "name": "stderr",
     "output_type": "stream",
     "text": [
      "Epoch [20/100]:   1%|▏               | 4/431 [00:00<00:13, 32.64it/s, loss=6.93]"
     ]
    },
    {
     "name": "stdout",
     "output_type": "stream",
     "text": [
      "\n",
      "training:\n",
      "\n"
     ]
    },
    {
     "name": "stderr",
     "output_type": "stream",
     "text": [
      "Epoch [20/100]: 100%|██████████████| 431/431 [00:11<00:00, 37.17it/s, loss=6.92]\n"
     ]
    },
    {
     "name": "stdout",
     "output_type": "stream",
     "text": [
      "Valid\n"
     ]
    },
    {
     "name": "stderr",
     "output_type": "stream",
     "text": [
      "100%|███████████████████████████████████████████| 54/54 [00:00<00:00, 93.08it/s]\n"
     ]
    },
    {
     "name": "stdout",
     "output_type": "stream",
     "text": [
      "{'recall@50': 0.12039510696794138, 'ndcg@50': 0.31734084082316877, 'hitrate@50': 0.5752688172043011}\n"
     ]
    },
    {
     "name": "stderr",
     "output_type": "stream",
     "text": [
      "Epoch [21/100]:   1%|▏               | 4/431 [00:00<00:12, 33.64it/s, loss=6.97]"
     ]
    },
    {
     "name": "stdout",
     "output_type": "stream",
     "text": [
      "\n",
      "training:\n",
      "\n"
     ]
    },
    {
     "name": "stderr",
     "output_type": "stream",
     "text": [
      "Epoch [21/100]: 100%|██████████████| 431/431 [00:11<00:00, 36.81it/s, loss=6.91]\n"
     ]
    },
    {
     "name": "stdout",
     "output_type": "stream",
     "text": [
      "Valid\n"
     ]
    },
    {
     "name": "stderr",
     "output_type": "stream",
     "text": [
      "100%|███████████████████████████████████████████| 54/54 [00:00<00:00, 92.73it/s]\n"
     ]
    },
    {
     "name": "stdout",
     "output_type": "stream",
     "text": [
      "{'recall@50': 0.12332641145305022, 'ndcg@50': 0.3287752965732281, 'hitrate@50': 0.5806451612903226}\n",
      "Testing\n",
      "model loaded from ./exp/ml-20m_softmax/MIND_0.0001_256_16/\n"
     ]
    },
    {
     "name": "stderr",
     "output_type": "stream",
     "text": [
      "100%|███████████████████████████████████████████| 54/54 [00:00<00:00, 91.77it/s]"
     ]
    },
    {
     "name": "stdout",
     "output_type": "stream",
     "text": [
      "{'recall@50': 0.08263692904317906, 'ndcg@50': 0.24522956251876063, 'hitrate@50': 0.53125}\n"
     ]
    },
    {
     "name": "stderr",
     "output_type": "stream",
     "text": [
      "\n"
     ]
    }
   ],
   "source": [
    "# 训练\n",
    "for epoch in range(1, 1 + config['Epoch']):\n",
    "    pbar = tqdm(train_loader)\n",
    "    model.train()\n",
    "    loss_list = []\n",
    "    acc_50_list = []\n",
    "    print()\n",
    "    print('training:')\n",
    "    print()\n",
    "    for batch_data in pbar:\n",
    "        (item_seq, mask, item) = batch_data\n",
    "        output_dict = model(item_seq, mask, item)\n",
    "        loss = output_dict['loss']\n",
    "        loss.backward()\n",
    "        optimizer.step()\n",
    "        optimizer.clear_grad()\n",
    "        \n",
    "        loss_list.append(loss.item())\n",
    "        pbar.set_description('Epoch [{}/{}]'.format(epoch,config['Epoch']))\n",
    "        pbar.set_postfix(loss = np.mean(loss_list))\n",
    "        # 验证\n",
    "    print('Valid')\n",
    "    recall_metric = evaluate_model(model, valid_loader, config['embedding_dim'], topN=50)\n",
    "    print(recall_metric)\n",
    "    recall_metric['phase'] = 'valid'\n",
    "    log_df = log_df.append(recall_metric, ignore_index=True)\n",
    "    log_df.to_csv(log_csv)\n",
    "\n",
    "    if recall_metric['recall@50'] > best_recall:\n",
    "        save_model(model,exp_path)\n",
    "        best_recall = recall_metric['recall@50']\n",
    "        last_improve_epoch = epoch\n",
    "\n",
    "    if epoch - last_improve_epoch > patience:\n",
    "        break\n",
    "\n",
    "print('Testing')\n",
    "model = load_model(model, exp_path)\n",
    "recall_metric = evaluate_model(model, test_loader, config['embedding_dim'], topN=50)\n",
    "print(recall_metric)\n",
    "recall_metric['phase'] = 'test'\n",
    "log_df = log_df.append(recall_metric, ignore_index=True)\n",
    "log_df.to_csv(log_csv)"
   ]
  },
  {
   "cell_type": "code",
   "execution_count": 37,
   "id": "ae6ec16a",
   "metadata": {},
   "outputs": [
    {
     "data": {
      "text/html": [
       "<div>\n",
       "<style scoped>\n",
       "    .dataframe tbody tr th:only-of-type {\n",
       "        vertical-align: middle;\n",
       "    }\n",
       "\n",
       "    .dataframe tbody tr th {\n",
       "        vertical-align: top;\n",
       "    }\n",
       "\n",
       "    .dataframe thead th {\n",
       "        text-align: right;\n",
       "    }\n",
       "</style>\n",
       "<table border=\"1\" class=\"dataframe\">\n",
       "  <thead>\n",
       "    <tr style=\"text-align: right;\">\n",
       "      <th></th>\n",
       "      <th>hitrate@50</th>\n",
       "      <th>ndcg@50</th>\n",
       "      <th>phase</th>\n",
       "      <th>recall@50</th>\n",
       "    </tr>\n",
       "  </thead>\n",
       "  <tbody>\n",
       "    <tr>\n",
       "      <th>0</th>\n",
       "      <td>0.548387</td>\n",
       "      <td>0.290656</td>\n",
       "      <td>valid</td>\n",
       "      <td>0.103910</td>\n",
       "    </tr>\n",
       "    <tr>\n",
       "      <th>1</th>\n",
       "      <td>0.569892</td>\n",
       "      <td>0.304996</td>\n",
       "      <td>valid</td>\n",
       "      <td>0.110708</td>\n",
       "    </tr>\n",
       "    <tr>\n",
       "      <th>2</th>\n",
       "      <td>0.559140</td>\n",
       "      <td>0.301942</td>\n",
       "      <td>valid</td>\n",
       "      <td>0.111398</td>\n",
       "    </tr>\n",
       "    <tr>\n",
       "      <th>3</th>\n",
       "      <td>0.569892</td>\n",
       "      <td>0.302886</td>\n",
       "      <td>valid</td>\n",
       "      <td>0.106622</td>\n",
       "    </tr>\n",
       "    <tr>\n",
       "      <th>4</th>\n",
       "      <td>0.575269</td>\n",
       "      <td>0.312626</td>\n",
       "      <td>valid</td>\n",
       "      <td>0.112257</td>\n",
       "    </tr>\n",
       "    <tr>\n",
       "      <th>5</th>\n",
       "      <td>0.569892</td>\n",
       "      <td>0.304501</td>\n",
       "      <td>valid</td>\n",
       "      <td>0.112579</td>\n",
       "    </tr>\n",
       "    <tr>\n",
       "      <th>6</th>\n",
       "      <td>0.569892</td>\n",
       "      <td>0.307271</td>\n",
       "      <td>valid</td>\n",
       "      <td>0.110793</td>\n",
       "    </tr>\n",
       "    <tr>\n",
       "      <th>7</th>\n",
       "      <td>0.575269</td>\n",
       "      <td>0.312845</td>\n",
       "      <td>valid</td>\n",
       "      <td>0.115931</td>\n",
       "    </tr>\n",
       "    <tr>\n",
       "      <th>8</th>\n",
       "      <td>0.569892</td>\n",
       "      <td>0.303512</td>\n",
       "      <td>valid</td>\n",
       "      <td>0.113197</td>\n",
       "    </tr>\n",
       "    <tr>\n",
       "      <th>9</th>\n",
       "      <td>0.569892</td>\n",
       "      <td>0.302934</td>\n",
       "      <td>valid</td>\n",
       "      <td>0.112884</td>\n",
       "    </tr>\n",
       "    <tr>\n",
       "      <th>10</th>\n",
       "      <td>0.569892</td>\n",
       "      <td>0.298550</td>\n",
       "      <td>valid</td>\n",
       "      <td>0.112058</td>\n",
       "    </tr>\n",
       "    <tr>\n",
       "      <th>11</th>\n",
       "      <td>0.569892</td>\n",
       "      <td>0.305077</td>\n",
       "      <td>valid</td>\n",
       "      <td>0.116668</td>\n",
       "    </tr>\n",
       "    <tr>\n",
       "      <th>12</th>\n",
       "      <td>0.564516</td>\n",
       "      <td>0.306554</td>\n",
       "      <td>valid</td>\n",
       "      <td>0.114693</td>\n",
       "    </tr>\n",
       "    <tr>\n",
       "      <th>13</th>\n",
       "      <td>0.575269</td>\n",
       "      <td>0.314428</td>\n",
       "      <td>valid</td>\n",
       "      <td>0.121763</td>\n",
       "    </tr>\n",
       "    <tr>\n",
       "      <th>14</th>\n",
       "      <td>0.580645</td>\n",
       "      <td>0.319598</td>\n",
       "      <td>valid</td>\n",
       "      <td>0.124909</td>\n",
       "    </tr>\n",
       "    <tr>\n",
       "      <th>15</th>\n",
       "      <td>0.580645</td>\n",
       "      <td>0.322201</td>\n",
       "      <td>valid</td>\n",
       "      <td>0.124807</td>\n",
       "    </tr>\n",
       "    <tr>\n",
       "      <th>16</th>\n",
       "      <td>0.569892</td>\n",
       "      <td>0.313730</td>\n",
       "      <td>valid</td>\n",
       "      <td>0.125805</td>\n",
       "    </tr>\n",
       "    <tr>\n",
       "      <th>17</th>\n",
       "      <td>0.564516</td>\n",
       "      <td>0.307574</td>\n",
       "      <td>valid</td>\n",
       "      <td>0.117489</td>\n",
       "    </tr>\n",
       "    <tr>\n",
       "      <th>18</th>\n",
       "      <td>0.580645</td>\n",
       "      <td>0.322736</td>\n",
       "      <td>valid</td>\n",
       "      <td>0.120953</td>\n",
       "    </tr>\n",
       "    <tr>\n",
       "      <th>19</th>\n",
       "      <td>0.580645</td>\n",
       "      <td>0.323101</td>\n",
       "      <td>valid</td>\n",
       "      <td>0.121206</td>\n",
       "    </tr>\n",
       "    <tr>\n",
       "      <th>20</th>\n",
       "      <td>0.586022</td>\n",
       "      <td>0.321401</td>\n",
       "      <td>valid</td>\n",
       "      <td>0.122018</td>\n",
       "    </tr>\n",
       "    <tr>\n",
       "      <th>21</th>\n",
       "      <td>0.575269</td>\n",
       "      <td>0.317341</td>\n",
       "      <td>valid</td>\n",
       "      <td>0.120395</td>\n",
       "    </tr>\n",
       "    <tr>\n",
       "      <th>22</th>\n",
       "      <td>0.580645</td>\n",
       "      <td>0.328775</td>\n",
       "      <td>valid</td>\n",
       "      <td>0.123326</td>\n",
       "    </tr>\n",
       "    <tr>\n",
       "      <th>23</th>\n",
       "      <td>0.531250</td>\n",
       "      <td>0.245230</td>\n",
       "      <td>test</td>\n",
       "      <td>0.082637</td>\n",
       "    </tr>\n",
       "  </tbody>\n",
       "</table>\n",
       "</div>"
      ],
      "text/plain": [
       "    hitrate@50   ndcg@50  phase  recall@50\n",
       "0     0.548387  0.290656  valid   0.103910\n",
       "1     0.569892  0.304996  valid   0.110708\n",
       "2     0.559140  0.301942  valid   0.111398\n",
       "3     0.569892  0.302886  valid   0.106622\n",
       "4     0.575269  0.312626  valid   0.112257\n",
       "5     0.569892  0.304501  valid   0.112579\n",
       "6     0.569892  0.307271  valid   0.110793\n",
       "7     0.575269  0.312845  valid   0.115931\n",
       "8     0.569892  0.303512  valid   0.113197\n",
       "9     0.569892  0.302934  valid   0.112884\n",
       "10    0.569892  0.298550  valid   0.112058\n",
       "11    0.569892  0.305077  valid   0.116668\n",
       "12    0.564516  0.306554  valid   0.114693\n",
       "13    0.575269  0.314428  valid   0.121763\n",
       "14    0.580645  0.319598  valid   0.124909\n",
       "15    0.580645  0.322201  valid   0.124807\n",
       "16    0.569892  0.313730  valid   0.125805\n",
       "17    0.564516  0.307574  valid   0.117489\n",
       "18    0.580645  0.322736  valid   0.120953\n",
       "19    0.580645  0.323101  valid   0.121206\n",
       "20    0.586022  0.321401  valid   0.122018\n",
       "21    0.575269  0.317341  valid   0.120395\n",
       "22    0.580645  0.328775  valid   0.123326\n",
       "23    0.531250  0.245230   test   0.082637"
      ]
     },
     "execution_count": 37,
     "metadata": {},
     "output_type": "execute_result"
    }
   ],
   "source": [
    "log_df"
   ]
  },
  {
   "cell_type": "code",
   "execution_count": 38,
   "id": "83f24341",
   "metadata": {},
   "outputs": [
    {
     "data": {
      "image/png": "[encoded data removed]",
      "text/plain": [
       "<Figure size 1280x960 with 1 Axes>"
      ]
     },
     "metadata": {},
     "output_type": "display_data"
    }
   ],
   "source": [
    "# 基于TSNE的Item Embedding分布可视化\n",
    "def plot_embedding(data, title):\n",
    "    x_min, x_max = np.min(data, 0), np.max(data, 0)\n",
    "    data = (data - x_min) / (x_max - x_min)\n",
    "    fig = plt.figure(dpi=200)\n",
    "    plt.scatter(data[:,0], data[:,1], marker='.')\n",
    "    plt.xticks([])\n",
    "    plt.yticks([])\n",
    "    plt.title(title)\n",
    "    plt.show()\n",
    "item_emb = model.output_items().numpy()\n",
    "tsne_emb = TSNE(n_components=2).fit_transform(item_emb)\n",
    "plot_embedding(tsne_emb,'GRU4Rec Item Embedding')"
   ]
  },
  {
   "cell_type": "code",
   "execution_count": null,
   "id": "63dc5cef",
   "metadata": {},
   "outputs": [],
   "source": []
  }
 ],
 "metadata": {
  "kernelspec": {
   "display_name": "Python 3 (ipykernel)",
   "language": "python",
   "name": "python3"
  },
  "language_info": {
   "codemirror_mode": {
    "name": "ipython",
    "version": 3
   },
   "file_extension": ".py",
   "mimetype": "text/x-python",
   "name": "python",
   "nbconvert_exporter": "python",
   "pygments_lexer": "ipython3",
   "version": "3.10.8"
  }
 },
 "nbformat": 4,
 "nbformat_minor": 5
}
